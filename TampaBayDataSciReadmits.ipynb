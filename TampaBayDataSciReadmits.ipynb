{
 "cells": [
  {
   "cell_type": "code",
   "execution_count": 66,
   "metadata": {},
   "outputs": [],
   "source": [
    "import pandas as pd\n",
    "import numpy as np\n",
    "import matplotlib.pyplot as plt\n",
    "import seaborn as sn\n",
    "\n",
    "from IPython.core.interactiveshell import InteractiveShell\n",
    "InteractiveShell.ast_node_interactivity = \"all\""
   ]
  },
  {
   "cell_type": "code",
   "execution_count": 166,
   "metadata": {},
   "outputs": [],
   "source": [
    "df=pd.read_excel('C:/Users/fatca/OneDrive/Desktop/Reunification Re-entry Project Update 12-4-19_cleanedNmerged.xlsx')"
   ]
  },
  {
   "cell_type": "markdown",
   "metadata": {},
   "source": [
    "# Data Exploration"
   ]
  },
  {
   "cell_type": "code",
   "execution_count": 167,
   "metadata": {},
   "outputs": [
    {
     "data": {
      "text/plain": [
       "Index(['Reentered', 'OriginalRow', 'dupe_caseNum', 'Age_Youth',\n",
       "       'A_Remove_Date', 'B_Reunion_Date', 'LOS_Before_Reunion_TOTAL',\n",
       "       'LOS_Before_Reunion_IMMED', 'DC_reason', 'C_Reenter_Date',\n",
       "       'LOS_Before_Reenter', 'Age_Parent', 'Married_Parent', 'SA_either',\n",
       "       'SA_mom', 'SA_dad', 'SA_asterisk', 'abuse_either', 'abuse_mom',\n",
       "       'abuse_dad', 'abuse_asterisk', 'Fostered_Parent', 'Fostered_asterisk',\n",
       "       'Kids_In_Home', 'Staff_Before_Reun', 'Staff_After_Reun', 'FR_team',\n",
       "       'Plmt_Type', 'Comments'],\n",
       "      dtype='object')"
      ]
     },
     "execution_count": 167,
     "metadata": {},
     "output_type": "execute_result"
    }
   ],
   "source": [
    "df.columns"
   ]
  },
  {
   "cell_type": "code",
   "execution_count": 85,
   "metadata": {},
   "outputs": [
    {
     "data": {
      "text/html": [
       "<div>\n",
       "<style scoped>\n",
       "    .dataframe tbody tr th:only-of-type {\n",
       "        vertical-align: middle;\n",
       "    }\n",
       "\n",
       "    .dataframe tbody tr th {\n",
       "        vertical-align: top;\n",
       "    }\n",
       "\n",
       "    .dataframe thead th {\n",
       "        text-align: right;\n",
       "    }\n",
       "</style>\n",
       "<table border=\"1\" class=\"dataframe\">\n",
       "  <thead>\n",
       "    <tr style=\"text-align: right;\">\n",
       "      <th></th>\n",
       "      <th>Reentered</th>\n",
       "      <th>OriginalRow</th>\n",
       "      <th>dupe_caseNum</th>\n",
       "      <th>Age_Youth</th>\n",
       "      <th>A_Remove_Date</th>\n",
       "      <th>B_Reunion_Date</th>\n",
       "      <th>LOS_Before_Reunion_TOTAL</th>\n",
       "      <th>LOS_Before_Reunion_IMMED</th>\n",
       "      <th>DC_reason</th>\n",
       "      <th>C_Reenter_Date</th>\n",
       "      <th>...</th>\n",
       "      <th>abuse_asterisk</th>\n",
       "      <th>Fostered_Parent</th>\n",
       "      <th>Fostered_asterisk</th>\n",
       "      <th>Kids_In_Home</th>\n",
       "      <th>Staff_Before_Reun</th>\n",
       "      <th>Staff_After_Reun</th>\n",
       "      <th>FR_team</th>\n",
       "      <th>Plmt_Type</th>\n",
       "      <th>Comments</th>\n",
       "      <th>Age_Youth2</th>\n",
       "    </tr>\n",
       "  </thead>\n",
       "  <tbody>\n",
       "    <tr>\n",
       "      <th>0</th>\n",
       "      <td>0</td>\n",
       "      <td>41</td>\n",
       "      <td>no case number provided</td>\n",
       "      <td>6</td>\n",
       "      <td>2018-04-13</td>\n",
       "      <td>2018-04-24</td>\n",
       "      <td>11</td>\n",
       "      <td>11</td>\n",
       "      <td>Reunification w/ Parent(s)/Prima</td>\n",
       "      <td>NaT</td>\n",
       "      <td>...</td>\n",
       "      <td>0</td>\n",
       "      <td>0</td>\n",
       "      <td>1</td>\n",
       "      <td>3</td>\n",
       "      <td>1</td>\n",
       "      <td>2</td>\n",
       "      <td>0</td>\n",
       "      <td>Relative</td>\n",
       "      <td>*FFA indicates that the mother was sexually an...</td>\n",
       "      <td>6</td>\n",
       "    </tr>\n",
       "    <tr>\n",
       "      <th>1</th>\n",
       "      <td>0</td>\n",
       "      <td>42</td>\n",
       "      <td>no case number provided</td>\n",
       "      <td>11</td>\n",
       "      <td>2018-05-10</td>\n",
       "      <td>2018-06-02</td>\n",
       "      <td>23</td>\n",
       "      <td>21</td>\n",
       "      <td>Reunification w/ Parent(s)/Prima</td>\n",
       "      <td>NaT</td>\n",
       "      <td>...</td>\n",
       "      <td>0</td>\n",
       "      <td>0</td>\n",
       "      <td>1</td>\n",
       "      <td>4</td>\n",
       "      <td>1</td>\n",
       "      <td>1</td>\n",
       "      <td>0</td>\n",
       "      <td>Relative</td>\n",
       "      <td>*FFA indicates that the mother and father both...</td>\n",
       "      <td>11</td>\n",
       "    </tr>\n",
       "    <tr>\n",
       "      <th>2</th>\n",
       "      <td>0</td>\n",
       "      <td>43</td>\n",
       "      <td>no case number provided</td>\n",
       "      <td>9</td>\n",
       "      <td>2018-03-12</td>\n",
       "      <td>2018-04-05</td>\n",
       "      <td>24</td>\n",
       "      <td>21</td>\n",
       "      <td>Reunification w/ Parent(s)/Prima</td>\n",
       "      <td>NaT</td>\n",
       "      <td>...</td>\n",
       "      <td>0</td>\n",
       "      <td>0</td>\n",
       "      <td>1</td>\n",
       "      <td>3</td>\n",
       "      <td>2</td>\n",
       "      <td>2</td>\n",
       "      <td>0</td>\n",
       "      <td>Relative</td>\n",
       "      <td>*FFA indicates that the mother was adopted as ...</td>\n",
       "      <td>9</td>\n",
       "    </tr>\n",
       "    <tr>\n",
       "      <th>3</th>\n",
       "      <td>0</td>\n",
       "      <td>44</td>\n",
       "      <td>no case number provided</td>\n",
       "      <td>2</td>\n",
       "      <td>2017-09-25</td>\n",
       "      <td>2017-11-03</td>\n",
       "      <td>39</td>\n",
       "      <td>30</td>\n",
       "      <td>Reunification w/ Parent(s)/Prima</td>\n",
       "      <td>NaT</td>\n",
       "      <td>...</td>\n",
       "      <td>0</td>\n",
       "      <td>0</td>\n",
       "      <td>1</td>\n",
       "      <td>1</td>\n",
       "      <td>1</td>\n",
       "      <td>2</td>\n",
       "      <td>1</td>\n",
       "      <td>Family foster home</td>\n",
       "      <td>*FFA indicates that the mother witnessed DV as...</td>\n",
       "      <td>2</td>\n",
       "    </tr>\n",
       "    <tr>\n",
       "      <th>4</th>\n",
       "      <td>0</td>\n",
       "      <td>45</td>\n",
       "      <td>no case number provided</td>\n",
       "      <td>9</td>\n",
       "      <td>2018-06-22</td>\n",
       "      <td>2018-08-03</td>\n",
       "      <td>42</td>\n",
       "      <td>30</td>\n",
       "      <td>Reunification w/ Parent(s)/Prima</td>\n",
       "      <td>NaT</td>\n",
       "      <td>...</td>\n",
       "      <td>0</td>\n",
       "      <td>0</td>\n",
       "      <td>0</td>\n",
       "      <td>2</td>\n",
       "      <td>3</td>\n",
       "      <td>1</td>\n",
       "      <td>0</td>\n",
       "      <td>Family foster home</td>\n",
       "      <td>NaN</td>\n",
       "      <td>9</td>\n",
       "    </tr>\n",
       "  </tbody>\n",
       "</table>\n",
       "<p>5 rows × 30 columns</p>\n",
       "</div>"
      ],
      "text/plain": [
       "   Reentered  OriginalRow             dupe_caseNum  Age_Youth A_Remove_Date  \\\n",
       "0          0           41  no case number provided          6    2018-04-13   \n",
       "1          0           42  no case number provided         11    2018-05-10   \n",
       "2          0           43  no case number provided          9    2018-03-12   \n",
       "3          0           44  no case number provided          2    2017-09-25   \n",
       "4          0           45  no case number provided          9    2018-06-22   \n",
       "\n",
       "  B_Reunion_Date  LOS_Before_Reunion_TOTAL  LOS_Before_Reunion_IMMED  \\\n",
       "0     2018-04-24                        11                        11   \n",
       "1     2018-06-02                        23                        21   \n",
       "2     2018-04-05                        24                        21   \n",
       "3     2017-11-03                        39                        30   \n",
       "4     2018-08-03                        42                        30   \n",
       "\n",
       "                          DC_reason C_Reenter_Date     ...      \\\n",
       "0  Reunification w/ Parent(s)/Prima            NaT     ...       \n",
       "1  Reunification w/ Parent(s)/Prima            NaT     ...       \n",
       "2  Reunification w/ Parent(s)/Prima            NaT     ...       \n",
       "3  Reunification w/ Parent(s)/Prima            NaT     ...       \n",
       "4  Reunification w/ Parent(s)/Prima            NaT     ...       \n",
       "\n",
       "   abuse_asterisk  Fostered_Parent  Fostered_asterisk  Kids_In_Home  \\\n",
       "0               0                0                  1             3   \n",
       "1               0                0                  1             4   \n",
       "2               0                0                  1             3   \n",
       "3               0                0                  1             1   \n",
       "4               0                0                  0             2   \n",
       "\n",
       "   Staff_Before_Reun  Staff_After_Reun  FR_team           Plmt_Type  \\\n",
       "0                  1                 2        0            Relative   \n",
       "1                  1                 1        0            Relative   \n",
       "2                  2                 2        0            Relative   \n",
       "3                  1                 2        1  Family foster home   \n",
       "4                  3                 1        0  Family foster home   \n",
       "\n",
       "                                            Comments  Age_Youth2  \n",
       "0  *FFA indicates that the mother was sexually an...           6  \n",
       "1  *FFA indicates that the mother and father both...          11  \n",
       "2  *FFA indicates that the mother was adopted as ...           9  \n",
       "3  *FFA indicates that the mother witnessed DV as...           2  \n",
       "4                                                NaN           9  \n",
       "\n",
       "[5 rows x 30 columns]"
      ]
     },
     "execution_count": 85,
     "metadata": {},
     "output_type": "execute_result"
    }
   ],
   "source": [
    "df.head()"
   ]
  },
  {
   "cell_type": "code",
   "execution_count": 18,
   "metadata": {},
   "outputs": [
    {
     "data": {
      "image/png": "[encoded data removed]",
      "text/plain": [
       "<matplotlib.figure.Figure at 0x1d0c4954c50>"
      ]
     },
     "metadata": {
      "needs_background": "light"
     },
     "output_type": "display_data"
    }
   ],
   "source": [
    "df['Reentered'].value_counts().plot(kind=\"bar\")\n",
    "plt.show()"
   ]
  },
  {
   "cell_type": "code",
   "execution_count": 21,
   "metadata": {},
   "outputs": [
    {
     "data": {
      "text/plain": [
       "510    1\n",
       "303    1\n",
       "26     1\n",
       "27     1\n",
       "540    1\n",
       "548    1\n",
       "41     1\n",
       "42     1\n",
       "43     1\n",
       "44     1\n",
       "45     1\n",
       "46     1\n",
       "48     1\n",
       "501    1\n",
       "49     1\n",
       "50     1\n",
       "51     1\n",
       "52     1\n",
       "53     1\n",
       "54     1\n",
       "55     1\n",
       "312    1\n",
       "313    1\n",
       "314    1\n",
       "25     1\n",
       "24     1\n",
       "535    1\n",
       "22     1\n",
       "1      1\n",
       "2      1\n",
       "      ..\n",
       "305    1\n",
       "306    1\n",
       "491    1\n",
       "307    1\n",
       "415    1\n",
       "153    1\n",
       "328    1\n",
       "388    1\n",
       "346    1\n",
       "86     1\n",
       "87     1\n",
       "602    1\n",
       "99     1\n",
       "100    1\n",
       "108    1\n",
       "12     1\n",
       "623    1\n",
       "300    1\n",
       "370    1\n",
       "371    1\n",
       "372    1\n",
       "376    1\n",
       "301    1\n",
       "302    1\n",
       "131    1\n",
       "132    1\n",
       "133    1\n",
       "395    1\n",
       "148    1\n",
       "0      1\n",
       "Name: OriginalRow, Length: 100, dtype: int64"
      ]
     },
     "execution_count": 21,
     "metadata": {},
     "output_type": "execute_result"
    }
   ],
   "source": [
    "df['OriginalRow'].value_counts() #this can be dropped.  This is the original row number\n",
    "#plt.show()"
   ]
  },
  {
   "cell_type": "code",
   "execution_count": 23,
   "metadata": {},
   "outputs": [
    {
     "data": {
      "text/plain": [
       "no case number provided      85\n",
       "Duplicate case #101285977     4\n",
       "Duplicate case #2680303       4\n",
       "Duplicate case #101206620     3\n",
       "Duplicate case #100754538     2\n",
       "Duplicate case #101504373     2\n",
       "Name: dupe_caseNum, dtype: int64"
      ]
     },
     "execution_count": 23,
     "metadata": {},
     "output_type": "execute_result"
    }
   ],
   "source": [
    "df['dupe_caseNum'].value_counts() #looks like I need to remove some duplicates"
   ]
  },
  {
   "cell_type": "code",
   "execution_count": 103,
   "metadata": {},
   "outputs": [
    {
     "data": {
      "text/plain": [
       "<matplotlib.axes._subplots.AxesSubplot at 0x1d0c59e4358>"
      ]
     },
     "execution_count": 103,
     "metadata": {},
     "output_type": "execute_result"
    },
    {
     "data": {
      "image/png": "[encoded data removed]",
      "text/plain": [
       "<matplotlib.figure.Figure at 0x1d0c5b900f0>"
      ]
     },
     "metadata": {
      "needs_background": "light"
     },
     "output_type": "display_data"
    }
   ],
   "source": [
    "df1=df\n",
    "df1['Age_Youth2']=df1['Age_Youth']\n",
    "df1.groupby(['Age_Youth2'])['Age_Youth'].sum().plot(kind='bar')\n",
    "plt.show()\n",
    "#lots more than I expected at the age of 15, 16, 18, and 2,4"
   ]
  },
  {
   "cell_type": "code",
   "execution_count": 162,
   "metadata": {},
   "outputs": [
    {
     "data": {
      "text/plain": [
       "<matplotlib.axes._subplots.AxesSubplot at 0x1d0cac2da20>"
      ]
     },
     "execution_count": 162,
     "metadata": {},
     "output_type": "execute_result"
    },
    {
     "data": {
      "text/plain": [
       "<matplotlib.axes._subplots.AxesSubplot at 0x1d0cac85390>"
      ]
     },
     "execution_count": 162,
     "metadata": {},
     "output_type": "execute_result"
    },
    {
     "data": {
      "text/plain": [
       "<matplotlib.axes._subplots.AxesSubplot at 0x1d0cac85390>"
      ]
     },
     "execution_count": 162,
     "metadata": {},
     "output_type": "execute_result"
    },
    {
     "data": {
      "text/plain": [
       "[]"
      ]
     },
     "execution_count": 162,
     "metadata": {},
     "output_type": "execute_result"
    },
    {
     "data": {
      "image/png": "[encoded data removed]",
      "text/plain": [
       "<matplotlib.figure.Figure at 0x1d0cab69710>"
      ]
     },
     "metadata": {
      "needs_background": "light"
     },
     "output_type": "display_data"
    }
   ],
   "source": [
    "fig, ax =plt.subplots()\n",
    "df['A_Remove_Date'].value_counts().plot(kind='line')\n",
    "df['B_Reunion_Date'].value_counts().plot(kind='line', secondary_y=True)\n",
    "df['C_Reenter_Date'].value_counts().plot(kind='line',secondary_y=True)\n",
    "plt.plot()"
   ]
  },
  {
   "cell_type": "code",
   "execution_count": 144,
   "metadata": {},
   "outputs": [
    {
     "data": {
      "image/png": "[encoded data removed]",
      "text/plain": [
       "<matplotlib.figure.Figure at 0x1d0c7160518>"
      ]
     },
     "metadata": {
      "needs_background": "light"
     },
     "output_type": "display_data"
    },
    {
     "data": {
      "text/plain": [
       "364     4\n",
       "293     3\n",
       "177     3\n",
       "942     3\n",
       "78      2\n",
       "50      2\n",
       "345     2\n",
       "295     2\n",
       "277     2\n",
       "285     2\n",
       "169     1\n",
       "399     1\n",
       "294     1\n",
       "39      1\n",
       "299     1\n",
       "645     1\n",
       "42      1\n",
       "415     1\n",
       "300     1\n",
       "265     1\n",
       "303     1\n",
       "51      1\n",
       "436     1\n",
       "422     1\n",
       "28      1\n",
       "461     1\n",
       "157     1\n",
       "389     1\n",
       "339     1\n",
       "590     1\n",
       "       ..\n",
       "237     1\n",
       "774     1\n",
       "238     1\n",
       "198     1\n",
       "112     1\n",
       "370     1\n",
       "883     1\n",
       "690     1\n",
       "801     1\n",
       "216     1\n",
       "167     1\n",
       "1202    1\n",
       "453     1\n",
       "226     1\n",
       "700     1\n",
       "190     1\n",
       "1       1\n",
       "321     1\n",
       "151     1\n",
       "344     1\n",
       "70      1\n",
       "83      1\n",
       "199     1\n",
       "431     1\n",
       "714     1\n",
       "75      1\n",
       "332     1\n",
       "77      1\n",
       "179     1\n",
       "428     1\n",
       "Name: LOS_Before_Reunion_TOTAL2, Length: 85, dtype: int64"
      ]
     },
     "execution_count": 144,
     "metadata": {},
     "output_type": "execute_result"
    }
   ],
   "source": [
    "# df['LOS_Before_Reunion_TOTAL'].value_counts()\n",
    "df2=df\n",
    "df2['LOS_Before_Reunion_TOTAL2']=df2['LOS_Before_Reunion_TOTAL']\n",
    "df2a=df2.groupby(['LOS_Before_Reunion_TOTAL2'])['LOS_Before_Reunion_TOTAL'].count().plot(kind='bar')\n",
    "plt.show()\n",
    "df2.LOS_Before_Reunion_TOTAL2.value_counts()\n",
    "#maxes of 364 days, 293 days, 177 days, 942 days, "
   ]
  },
  {
   "cell_type": "code",
   "execution_count": 157,
   "metadata": {},
   "outputs": [
    {
     "data": {
      "image/png": "[encoded data removed]",
      "text/plain": [
       "<matplotlib.figure.Figure at 0x1d0c872feb8>"
      ]
     },
     "metadata": {
      "needs_background": "light"
     },
     "output_type": "display_data"
    },
    {
     "data": {
      "text/plain": [
       "364     4\n",
       "293     3\n",
       "177     3\n",
       "942     3\n",
       "78      2\n",
       "50      2\n",
       "345     2\n",
       "295     2\n",
       "277     2\n",
       "285     2\n",
       "169     1\n",
       "399     1\n",
       "294     1\n",
       "39      1\n",
       "299     1\n",
       "645     1\n",
       "42      1\n",
       "415     1\n",
       "300     1\n",
       "265     1\n",
       "303     1\n",
       "51      1\n",
       "436     1\n",
       "422     1\n",
       "28      1\n",
       "461     1\n",
       "157     1\n",
       "389     1\n",
       "339     1\n",
       "590     1\n",
       "       ..\n",
       "237     1\n",
       "774     1\n",
       "238     1\n",
       "198     1\n",
       "112     1\n",
       "370     1\n",
       "883     1\n",
       "690     1\n",
       "801     1\n",
       "216     1\n",
       "167     1\n",
       "1202    1\n",
       "453     1\n",
       "226     1\n",
       "700     1\n",
       "190     1\n",
       "1       1\n",
       "321     1\n",
       "151     1\n",
       "344     1\n",
       "70      1\n",
       "83      1\n",
       "199     1\n",
       "431     1\n",
       "714     1\n",
       "75      1\n",
       "332     1\n",
       "77      1\n",
       "179     1\n",
       "428     1\n",
       "Name: LOS_Before_Reunion_TOTAL2, Length: 85, dtype: int64"
      ]
     },
     "execution_count": 157,
     "metadata": {},
     "output_type": "execute_result"
    }
   ],
   "source": [
    "df3=df\n",
    "df3['LOS_Before_Reunion_IMMED2']=df3['LOS_Before_Reunion_IMMED']\n",
    "df3a=df2.groupby(['LOS_Before_Reunion_IMMED2'])['LOS_Before_Reunion_IMMED'].count().plot(kind='bar')\n",
    "plt.show()\n",
    "df3.LOS_Before_Reunion_TOTAL2.value_counts()"
   ]
  },
  {
   "cell_type": "code",
   "execution_count": 160,
   "metadata": {},
   "outputs": [
    {
     "data": {
      "text/plain": [
       "<matplotlib.axes._subplots.AxesSubplot at 0x1d0c7e50b38>"
      ]
     },
     "execution_count": 160,
     "metadata": {},
     "output_type": "execute_result"
    },
    {
     "data": {
      "image/png": "[encoded data removed]",
      "text/plain": [
       "<matplotlib.figure.Figure at 0x1d0c96ef518>"
      ]
     },
     "metadata": {
      "needs_background": "light"
     },
     "output_type": "display_data"
    }
   ],
   "source": [
    "df.DC_reason.value_counts().plot(kind='bar')\n",
    "plt.show()"
   ]
  },
  {
   "cell_type": "code",
   "execution_count": 163,
   "metadata": {},
   "outputs": [
    {
     "data": {
      "text/plain": [
       "<matplotlib.axes._subplots.AxesSubplot at 0x1d0cac63e10>"
      ]
     },
     "execution_count": 163,
     "metadata": {},
     "output_type": "execute_result"
    },
    {
     "data": {
      "image/png": "[encoded data removed]",
      "text/plain": [
       "<matplotlib.figure.Figure at 0x1d0cabf6eb8>"
      ]
     },
     "metadata": {
      "needs_background": "light"
     },
     "output_type": "display_data"
    }
   ],
   "source": [
    "df['LOS_Before_Reenter'].value_counts().plot(kind='bar')"
   ]
  },
  {
   "cell_type": "code",
   "execution_count": 165,
   "metadata": {},
   "outputs": [
    {
     "data": {
      "text/plain": [
       "<matplotlib.axes._subplots.AxesSubplot at 0x1d0c6e9ac50>"
      ]
     },
     "execution_count": 165,
     "metadata": {},
     "output_type": "execute_result"
    },
    {
     "data": {
      "image/png": "[encoded data removed]",
      "text/plain": [
       "<matplotlib.figure.Figure at 0x1d0c58a26a0>"
      ]
     },
     "metadata": {
      "needs_background": "light"
     },
     "output_type": "display_data"
    }
   ],
   "source": [
    "df['Age_Parent'].value_counts().plot(kind='bar')\n",
    "plt.show()"
   ]
  },
  {
   "cell_type": "code",
   "execution_count": 168,
   "metadata": {},
   "outputs": [
    {
     "data": {
      "text/plain": [
       "0    83\n",
       "1    17\n",
       "Name: Married_Parent, dtype: int64"
      ]
     },
     "execution_count": 168,
     "metadata": {},
     "output_type": "execute_result"
    }
   ],
   "source": [
    "df.Married_Parent.value_counts()"
   ]
  },
  {
   "cell_type": "code",
   "execution_count": 171,
   "metadata": {},
   "outputs": [
    {
     "data": {
      "text/plain": [
       "1    53\n",
       "0    47\n",
       "Name: SA_either, dtype: int64"
      ]
     },
     "execution_count": 171,
     "metadata": {},
     "output_type": "execute_result"
    }
   ],
   "source": [
    "df.SA_either.value_counts()"
   ]
  },
  {
   "cell_type": "code",
   "execution_count": 172,
   "metadata": {},
   "outputs": [
    {
     "data": {
      "text/plain": [
       "0    64\n",
       "1    36\n",
       "Name: SA_dad, dtype: int64"
      ]
     },
     "execution_count": 172,
     "metadata": {},
     "output_type": "execute_result"
    }
   ],
   "source": [
    "df.SA_dad.value_counts()"
   ]
  },
  {
   "cell_type": "code",
   "execution_count": 173,
   "metadata": {},
   "outputs": [
    {
     "data": {
      "text/plain": [
       "0    68\n",
       "1    32\n",
       "Name: SA_mom, dtype: int64"
      ]
     },
     "execution_count": 173,
     "metadata": {},
     "output_type": "execute_result"
    }
   ],
   "source": [
    "df.SA_mom.value_counts()"
   ]
  },
  {
   "cell_type": "code",
   "execution_count": 175,
   "metadata": {},
   "outputs": [
    {
     "data": {
      "text/plain": [
       "<matplotlib.axes._subplots.AxesSubplot at 0x1d0c73fa128>"
      ]
     },
     "execution_count": 175,
     "metadata": {},
     "output_type": "execute_result"
    },
    {
     "data": {
      "image/png": "[encoded data removed]",
      "text/plain": [
       "<matplotlib.figure.Figure at 0x1d0c73fa400>"
      ]
     },
     "metadata": {
      "needs_background": "light"
     },
     "output_type": "display_data"
    }
   ],
   "source": [
    "df.abuse_mom.value_counts().plot(kind='bar') #what does this mean?????  What is a 4?  What is a 2?  Is that instances of abuse?\n",
    "plt.show()"
   ]
  },
  {
   "cell_type": "code",
   "execution_count": 177,
   "metadata": {},
   "outputs": [
    {
     "data": {
      "text/plain": [
       "<matplotlib.axes._subplots.AxesSubplot at 0x1d0c7206d30>"
      ]
     },
     "execution_count": 177,
     "metadata": {},
     "output_type": "execute_result"
    },
    {
     "data": {
      "image/png": "[encoded data removed]",
      "text/plain": [
       "<matplotlib.figure.Figure at 0x1d0c7282d68>"
      ]
     },
     "metadata": {
      "needs_background": "light"
     },
     "output_type": "display_data"
    }
   ],
   "source": [
    "df.abuse_dad.value_counts().plot(kind='bar') #what does this mean?????  What is a 4?  What is a 2?  Is that instances of abuse?\n",
    "plt.show()"
   ]
  },
  {
   "cell_type": "code",
   "execution_count": 179,
   "metadata": {},
   "outputs": [
    {
     "data": {
      "text/plain": [
       "<matplotlib.axes._subplots.AxesSubplot at 0x1d0c6c5a0b8>"
      ]
     },
     "execution_count": 179,
     "metadata": {},
     "output_type": "execute_result"
    },
    {
     "data": {
      "image/png": "[encoded data removed]",
      "text/plain": [
       "<matplotlib.figure.Figure at 0x1d0c7206f28>"
      ]
     },
     "metadata": {
      "needs_background": "light"
     },
     "output_type": "display_data"
    }
   ],
   "source": [
    "df.abuse_either.value_counts().plot(kind='bar') #what does this mean?????  What is a 4?  What is a 2?  Is that instances of abuse?\n",
    "plt.show()"
   ]
  },
  {
   "cell_type": "code",
   "execution_count": 180,
   "metadata": {},
   "outputs": [
    {
     "data": {
      "text/plain": [
       "0    94\n",
       "1     6\n",
       "Name: abuse_asterisk, dtype: int64"
      ]
     },
     "execution_count": 180,
     "metadata": {},
     "output_type": "execute_result"
    }
   ],
   "source": [
    "df.abuse_asterisk.value_counts() #almost useless, almost all of the cases are abuses"
   ]
  },
  {
   "cell_type": "code",
   "execution_count": 181,
   "metadata": {},
   "outputs": [
    {
     "data": {
      "text/plain": [
       "0    99\n",
       "1     1\n",
       "Name: Fostered_Parent, dtype: int64"
      ]
     },
     "execution_count": 181,
     "metadata": {},
     "output_type": "execute_result"
    }
   ],
   "source": [
    "df.Fostered_Parent.value_counts()#almost useless, almost all of the cases are in foster"
   ]
  },
  {
   "cell_type": "code",
   "execution_count": 182,
   "metadata": {},
   "outputs": [
    {
     "data": {
      "text/plain": [
       "1    55\n",
       "0    45\n",
       "Name: Fostered_asterisk, dtype: int64"
      ]
     },
     "execution_count": 182,
     "metadata": {},
     "output_type": "execute_result"
    }
   ],
   "source": [
    "df.Fostered_asterisk.value_counts()"
   ]
  },
  {
   "cell_type": "code",
   "execution_count": 184,
   "metadata": {},
   "outputs": [
    {
     "data": {
      "text/plain": [
       "<matplotlib.axes._subplots.AxesSubplot at 0x1d0c7172a58>"
      ]
     },
     "execution_count": 184,
     "metadata": {},
     "output_type": "execute_result"
    },
    {
     "data": {
      "text/plain": [
       "[]"
      ]
     },
     "execution_count": 184,
     "metadata": {},
     "output_type": "execute_result"
    },
    {
     "data": {
      "image/png": "[encoded data removed]",
      "text/plain": [
       "<matplotlib.figure.Figure at 0x1d0c6d82da0>"
      ]
     },
     "metadata": {
      "needs_background": "light"
     },
     "output_type": "display_data"
    }
   ],
   "source": [
    "df.Kids_In_Home.value_counts().plot(kind='bar')\n",
    "plt.plot()"
   ]
  },
  {
   "cell_type": "code",
   "execution_count": 194,
   "metadata": {},
   "outputs": [
    {
     "data": {
      "text/plain": [
       "<matplotlib.axes._subplots.AxesSubplot at 0x1d0c7e79128>"
      ]
     },
     "execution_count": 194,
     "metadata": {},
     "output_type": "execute_result"
    },
    {
     "data": {
      "text/plain": [
       "<matplotlib.axes._subplots.AxesSubplot at 0x1d0c7e79128>"
      ]
     },
     "execution_count": 194,
     "metadata": {},
     "output_type": "execute_result"
    },
    {
     "data": {
      "text/plain": [
       "[]"
      ]
     },
     "execution_count": 194,
     "metadata": {},
     "output_type": "execute_result"
    },
    {
     "data": {
      "image/png": "[encoded data removed]",
      "text/plain": [
       "<matplotlib.figure.Figure at 0x1d0c817c4a8>"
      ]
     },
     "metadata": {
      "needs_background": "light"
     },
     "output_type": "display_data"
    }
   ],
   "source": [
    "fig, ax =plt.subplots()\n",
    "df.Staff_Before_Reun.value_counts().plot(kind='bar')\n",
    "df.Staff_After_Reun.value_counts().plot(kind='bar')\n",
    "plt.plot()"
   ]
  },
  {
   "cell_type": "code",
   "execution_count": 189,
   "metadata": {},
   "outputs": [
    {
     "data": {
      "text/plain": [
       "<matplotlib.axes._subplots.AxesSubplot at 0x1d0c7399be0>"
      ]
     },
     "execution_count": 189,
     "metadata": {},
     "output_type": "execute_result"
    },
    {
     "data": {
      "text/plain": [
       "[]"
      ]
     },
     "execution_count": 189,
     "metadata": {},
     "output_type": "execute_result"
    },
    {
     "data": {
      "image/png": "[encoded data removed]",
      "text/plain": [
       "<matplotlib.figure.Figure at 0x1d0c74ed080>"
      ]
     },
     "metadata": {
      "needs_background": "light"
     },
     "output_type": "display_data"
    }
   ],
   "source": [
    "df.Staff_After_Reun.value_counts().plot(kind='bar')\n",
    "plt.plot()"
   ]
  },
  {
   "cell_type": "code",
   "execution_count": 187,
   "metadata": {},
   "outputs": [
    {
     "data": {
      "text/plain": [
       "0    71\n",
       "1    29\n",
       "Name: FR_team, dtype: int64"
      ]
     },
     "execution_count": 187,
     "metadata": {},
     "output_type": "execute_result"
    }
   ],
   "source": [
    "df.FR_team.value_counts()"
   ]
  },
  {
   "cell_type": "code",
   "execution_count": 195,
   "metadata": {},
   "outputs": [
    {
     "data": {
      "text/plain": [
       "Index(['Reentered', 'OriginalRow', 'dupe_caseNum', 'Age_Youth',\n",
       "       'A_Remove_Date', 'B_Reunion_Date', 'LOS_Before_Reunion_TOTAL',\n",
       "       'LOS_Before_Reunion_IMMED', 'DC_reason', 'C_Reenter_Date',\n",
       "       'LOS_Before_Reenter', 'Age_Parent', 'Married_Parent', 'SA_either',\n",
       "       'SA_mom', 'SA_dad', 'SA_asterisk', 'abuse_either', 'abuse_mom',\n",
       "       'abuse_dad', 'abuse_asterisk', 'Fostered_Parent', 'Fostered_asterisk',\n",
       "       'Kids_In_Home', 'Staff_Before_Reun', 'Staff_After_Reun', 'FR_team',\n",
       "       'Plmt_Type', 'Comments'],\n",
       "      dtype='object')"
      ]
     },
     "execution_count": 195,
     "metadata": {},
     "output_type": "execute_result"
    }
   ],
   "source": [
    "df.columns"
   ]
  },
  {
   "cell_type": "code",
   "execution_count": 197,
   "metadata": {},
   "outputs": [
    {
     "data": {
      "text/plain": [
       "<matplotlib.axes._subplots.AxesSubplot at 0x1d0c8270748>"
      ]
     },
     "execution_count": 197,
     "metadata": {},
     "output_type": "execute_result"
    },
    {
     "data": {
      "image/png": "[encoded data removed]",
      "text/plain": [
       "<matplotlib.figure.Figure at 0x1d0c7e56080>"
      ]
     },
     "metadata": {
      "needs_background": "light"
     },
     "output_type": "display_data"
    }
   ],
   "source": [
    "df.Plmt_Type.value_counts().plot(kind='bar')\n",
    "plt.show()"
   ]
  },
  {
   "cell_type": "code",
   "execution_count": 199,
   "metadata": {},
   "outputs": [
    {
     "data": {
      "text/plain": [
       "*FFA indicates that the mother and father both denied any abuse/neglect as children.                                                                                                                                                                                                        16\n",
       "*FFA indicates that the mother denied any abuse/neglect as a child.                                                                                                                                                                                                                          6\n",
       "*FFA indicates that the mother was said to be involved with the Dept as a child however it is unknown if she was in foster care.                                                                                                                                                             4\n",
       "*Allegations of Substance Abuse were Not Substantiated.                                                                                                                                                                                                                                      3\n",
       "*FFA indicates that the mother admitted to being sexually abused as a child.                                                                                                                                                                                                                 2\n",
       "*Allegations of Substance Abuse were Not Substantiated however mother admitted to using Marijuana and the father tested positive for Marijuana. FFA indicates that the mother witnessed DV between her parents as a child                                                                    2\n",
       "*FFA indicates that the mother was said to be involved with the Dept as a child however it is unknown if she was in foster care. Mother has two other children who do not reside with her.                                                                                                   1\n",
       "*Mother has verified report of Death for child in 2008 (drowning).                                                                                                                                                                                                                           1\n",
       "*The FFA indicates that the father admitted to physical abuse as a child perpetrated by his step-father. The mother denied any abuse/neglect as child.                                                                                                                                       1\n",
       "*While allegations do not include Substance Abuse , drugs were being sold out of the home. Mother denied any abuse/neglect as a child.                                                                                                                                                       1\n",
       "*Father indicates that he was raised by his godparents.                                                                                                                                                                                                                                      1\n",
       "*Mother is listed as victim in abuse report from 2015 (Abandonment)                                                                                                                                                                                                                          1\n",
       "*The father has additional children aside from those he shares with the mother, he is listed in a total of 11 abuse reports involving his 15 children. Allegations of Substance Abuse were Not Substantiated.                                                                                1\n",
       "*While none of the allegations include Susbtance Abuse concerns, the FFA indicates that the father has drug related charges. Father denied any abuse or trauma as a child.                                                                                                                   1\n",
       "*While neither allegation includes Substance Abuse concerns, the FFA indicates that the Paramour was arrested in Puerto Rico for drug related charges.                                                                                                                                       1\n",
       "*While there is only 1 report listed in FLA, the FFA indicates that the father previously had children removed in GA. It is unknown if there are children he shares with the mother or are from a different relationship. Both the mother and father deny any abuse/neglect as children.     1\n",
       "*FFA indicates that the father  denied any abuse/neglect as child, however; the mother admitted to being physically abused by her step-father as a child.                                                                                                                                    1\n",
       "*Father has several adult children, he is listed in 2 abuse reports involving them. While none of the allegations list substance abuse, the FFA indicates that the father has drug related charges.                                                                                          1\n",
       "*FFA indicates that the mother witnessed DV as a child. The father denied any abuse/neglect.                                                                                                                                                                                                 1\n",
       "*Although substance abuse allegations were not in reference to the mother and father, both admit to smoking Marijuana. The mother also admits to being sexually abused as a child.                                                                                                           1\n",
       "*Allegations of Substance Abuse-Alcohol, as to the father, were Not Substantiated. Father also denied any abuse/neglect as a child.                                                                                                                                                          1\n",
       "*FFA indicates that both the mother and father denied any abuse/neglect as a children.                                                                                                                                                                                                       1\n",
       "*Mother was listed in report in 2017 for Death of child, but case closed with no findings.                                                                                                                                                                                                   1\n",
       "*FFA indicates that the mother was adopted as a child.                                                                                                                                                                                                                                       1\n",
       "*The mother tested positive for Marijuana when the child was born. The mother was not placed in foster care however; she is listed as the victim in several reports.                                                                                                                         1\n",
       "*Allegations of Substance Abuse were Not Substantiated. FFA indicates that the mother was removed from her parents for a short time.                                                                                                                                                         1\n",
       "*FFA indicates that the mother denied any abuse/neglect as a child. The father admitted that he was sexually abused by his older brother as a child and later sexually abused his younger sister. It is unknown if he was placed in foster care.                                             1\n",
       "*FFA indicates that the father denied any abuse/neglect as a child.                                                                                                                                                                                                                          1\n",
       "*FFA indicates that the mother admitted to physical and sexual abuse by her grandfather.                                                                                                                                                                                                     1\n",
       "*Mother died of drug related causes (Vicodin).                                                                                                                                                                                                                                               1\n",
       "*FFA indicates that the mother was abused as a child. Father denies abuse or neglect.                                                                                                                                                                                                        1\n",
       "*Allegations of Substance Abuse were Not Substantiated Mother denied any abuse/neglect as a child.                                                                                                                                                                                           1\n",
       "*FFA indicates that the  father  denied any abuse/neglect as a child however; the mother disclosed that she was molested by her grandfather as a child.                                                                                                                                      1\n",
       "*FFA indicates that the father  denied any abuse/neglect as a child.                                                                                                                                                                                                                         1\n",
       "*While the allegation does not include Substance abuse concerns, the FFA indicates that the Mother's paramour was arrested for growing Marijuana  in the family home.                                                                                                                        1\n",
       "*FFA indicates that the mother  denied any abuse/neglect as a child.                                                                                                                                                                                                                         1\n",
       "*While allegations of Substance Abuse were Not Substantiated, the mother admits to using Marijuana.                                                                                                                                                                                          1\n",
       "*FFA indicates that the father admits to being physically abused as a child.                                                                                                                                                                                                                 1\n",
       "*Allegations of Substance Abuse were Not Substantiated however the mother has drug related charges.                                                                                                                                                                                          1\n",
       "*FFA indicates that the mother has previous criminal charges for cocaine and marijuana and possession.                                                                                                                                                                                       1\n",
       "*Father died from overdose related to this removal.                                                                                                                                                                                                                                          1\n",
       "*The FFA indicates that while the mother denied any abuse/neglect as a child, she was adopted by family members at an early age.                                                                                                                                                             1\n",
       "*FFA indicates that the mother was sexually and physically abused as a child. Father denies abuse or neglect.                                                                                                                                                                                1\n",
       "*While the allegation does not include Substance Abuse concerns, the FFA indicates that the mother admits to smoking Marijuana and the father has drug related charges for trafficking methanphetamine and cocaine. The father also admits to being verbally abused as a child.              1\n",
       "*While the allegation does not include Substance Abuse concerns, the FFA indicates that the father admits to smoking Marijuana and has drug related charges.                                                                                                                                 1\n",
       "*The father has additional children aside from those he shares with the mother, he is listed in 7 abuse reports involving them.                                                                                                                                                              1\n",
       "Name: Comments, dtype: int64"
      ]
     },
     "execution_count": 199,
     "metadata": {},
     "output_type": "execute_result"
    }
   ],
   "source": [
    "df.Comments.value_counts()"
   ]
  },
  {
   "cell_type": "markdown",
   "metadata": {},
   "source": [
    "## General thoughts \n",
    "\n",
    "Looking at the data, while there are not many cases of re-admissions, there arn't many cases at all.  "
   ]
  },
  {
   "cell_type": "markdown",
   "metadata": {},
   "source": [
    "# Model Building"
   ]
  }
 ],
 "metadata": {
  "kernelspec": {
   "display_name": "Python 3",
   "language": "python",
   "name": "python3"
  },
  "language_info": {
   "codemirror_mode": {
    "name": "ipython",
    "version": 3
   },
   "file_extension": ".py",
   "mimetype": "text/x-python",
   "name": "python",
   "nbconvert_exporter": "python",
   "pygments_lexer": "ipython3",
   "version": "3.6.4"
  }
 },
 "nbformat": 4,
 "nbformat_minor": 4
}
